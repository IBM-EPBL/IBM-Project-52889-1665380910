{
  "nbformat": 4,
  "nbformat_minor": 0,
  "metadata": {
    "colab": {
      "provenance": []
    },
    "kernelspec": {
      "name": "python3",
      "display_name": "Python 3"
    },
    "language_info": {
      "name": "python"
    }
  },
  "cells": [
    {
      "cell_type": "code",
      "execution_count": 1,
      "metadata": {
        "id": "Z-1JcbrCoJgX"
      },
      "outputs": [],
      "source": [
        "import pandas as pd\n",
        "import numpy as np\n",
        "import matplotlib.pyplot as plt\n",
        "import seaborn as sns"
      ]
    },
    {
      "cell_type": "code",
      "source": [
        "df = pd.read_csv('/content/Mall_Customers (1).csv')\n",
        "df"
      ],
      "metadata": {
        "colab": {
          "base_uri": "https://localhost:8080/",
          "height": 424
        },
        "id": "qRCbjnmboM-x",
        "outputId": "9c6623c7-c542-4fdf-b1b0-cf5f6e746368"
      },
      "execution_count": 2,
      "outputs": [
        {
          "output_type": "execute_result",
          "data": {
            "text/plain": [
              "     CustomerID   Genre  Age  Annual Income (k$)  Spending Score (1-100)\n",
              "0             1    Male   19                  15                      39\n",
              "1             2    Male   21                  15                      81\n",
              "2             3  Female   20                  16                       6\n",
              "3             4  Female   23                  16                      77\n",
              "4             5  Female   31                  17                      40\n",
              "..          ...     ...  ...                 ...                     ...\n",
              "195         196  Female   35                 120                      79\n",
              "196         197  Female   45                 126                      28\n",
              "197         198    Male   32                 126                      74\n",
              "198         199    Male   32                 137                      18\n",
              "199         200    Male   30                 137                      83\n",
              "\n",
              "[200 rows x 5 columns]"
            ],
            "text/html": [
              "\n",
              "  <div id=\"df-182de8d7-d55c-42c8-a1a3-2f247f9ad4cf\">\n",
              "    <div class=\"colab-df-container\">\n",
              "      <div>\n",
              "<style scoped>\n",
              "    .dataframe tbody tr th:only-of-type {\n",
              "        vertical-align: middle;\n",
              "    }\n",
              "\n",
              "    .dataframe tbody tr th {\n",
              "        vertical-align: top;\n",
              "    }\n",
              "\n",
              "    .dataframe thead th {\n",
              "        text-align: right;\n",
              "    }\n",
              "</style>\n",
              "<table border=\"1\" class=\"dataframe\">\n",
              "  <thead>\n",
              "    <tr style=\"text-align: right;\">\n",
              "      <th></th>\n",
              "      <th>CustomerID</th>\n",
              "      <th>Genre</th>\n",
              "      <th>Age</th>\n",
              "      <th>Annual Income (k$)</th>\n",
              "      <th>Spending Score (1-100)</th>\n",
              "    </tr>\n",
              "  </thead>\n",
              "  <tbody>\n",
              "    <tr>\n",
              "      <th>0</th>\n",
              "      <td>1</td>\n",
              "      <td>Male</td>\n",
              "      <td>19</td>\n",
              "      <td>15</td>\n",
              "      <td>39</td>\n",
              "    </tr>\n",
              "    <tr>\n",
              "      <th>1</th>\n",
              "      <td>2</td>\n",
              "      <td>Male</td>\n",
              "      <td>21</td>\n",
              "      <td>15</td>\n",
              "      <td>81</td>\n",
              "    </tr>\n",
              "    <tr>\n",
              "      <th>2</th>\n",
              "      <td>3</td>\n",
              "      <td>Female</td>\n",
              "      <td>20</td>\n",
              "      <td>16</td>\n",
              "      <td>6</td>\n",
              "    </tr>\n",
              "    <tr>\n",
              "      <th>3</th>\n",
              "      <td>4</td>\n",
              "      <td>Female</td>\n",
              "      <td>23</td>\n",
              "      <td>16</td>\n",
              "      <td>77</td>\n",
              "    </tr>\n",
              "    <tr>\n",
              "      <th>4</th>\n",
              "      <td>5</td>\n",
              "      <td>Female</td>\n",
              "      <td>31</td>\n",
              "      <td>17</td>\n",
              "      <td>40</td>\n",
              "    </tr>\n",
              "    <tr>\n",
              "      <th>...</th>\n",
              "      <td>...</td>\n",
              "      <td>...</td>\n",
              "      <td>...</td>\n",
              "      <td>...</td>\n",
              "      <td>...</td>\n",
              "    </tr>\n",
              "    <tr>\n",
              "      <th>195</th>\n",
              "      <td>196</td>\n",
              "      <td>Female</td>\n",
              "      <td>35</td>\n",
              "      <td>120</td>\n",
              "      <td>79</td>\n",
              "    </tr>\n",
              "    <tr>\n",
              "      <th>196</th>\n",
              "      <td>197</td>\n",
              "      <td>Female</td>\n",
              "      <td>45</td>\n",
              "      <td>126</td>\n",
              "      <td>28</td>\n",
              "    </tr>\n",
              "    <tr>\n",
              "      <th>197</th>\n",
              "      <td>198</td>\n",
              "      <td>Male</td>\n",
              "      <td>32</td>\n",
              "      <td>126</td>\n",
              "      <td>74</td>\n",
              "    </tr>\n",
              "    <tr>\n",
              "      <th>198</th>\n",
              "      <td>199</td>\n",
              "      <td>Male</td>\n",
              "      <td>32</td>\n",
              "      <td>137</td>\n",
              "      <td>18</td>\n",
              "    </tr>\n",
              "    <tr>\n",
              "      <th>199</th>\n",
              "      <td>200</td>\n",
              "      <td>Male</td>\n",
              "      <td>30</td>\n",
              "      <td>137</td>\n",
              "      <td>83</td>\n",
              "    </tr>\n",
              "  </tbody>\n",
              "</table>\n",
              "<p>200 rows × 5 columns</p>\n",
              "</div>\n",
              "      <button class=\"colab-df-convert\" onclick=\"convertToInteractive('df-182de8d7-d55c-42c8-a1a3-2f247f9ad4cf')\"\n",
              "              title=\"Convert this dataframe to an interactive table.\"\n",
              "              style=\"display:none;\">\n",
              "        \n",
              "  <svg xmlns=\"http://www.w3.org/2000/svg\" height=\"24px\"viewBox=\"0 0 24 24\"\n",
              "       width=\"24px\">\n",
              "    <path d=\"M0 0h24v24H0V0z\" fill=\"none\"/>\n",
              "    <path d=\"M18.56 5.44l.94 2.06.94-2.06 2.06-.94-2.06-.94-.94-2.06-.94 2.06-2.06.94zm-11 1L8.5 8.5l.94-2.06 2.06-.94-2.06-.94L8.5 2.5l-.94 2.06-2.06.94zm10 10l.94 2.06.94-2.06 2.06-.94-2.06-.94-.94-2.06-.94 2.06-2.06.94z\"/><path d=\"M17.41 7.96l-1.37-1.37c-.4-.4-.92-.59-1.43-.59-.52 0-1.04.2-1.43.59L10.3 9.45l-7.72 7.72c-.78.78-.78 2.05 0 2.83L4 21.41c.39.39.9.59 1.41.59.51 0 1.02-.2 1.41-.59l7.78-7.78 2.81-2.81c.8-.78.8-2.07 0-2.86zM5.41 20L4 18.59l7.72-7.72 1.47 1.35L5.41 20z\"/>\n",
              "  </svg>\n",
              "      </button>\n",
              "      \n",
              "  <style>\n",
              "    .colab-df-container {\n",
              "      display:flex;\n",
              "      flex-wrap:wrap;\n",
              "      gap: 12px;\n",
              "    }\n",
              "\n",
              "    .colab-df-convert {\n",
              "      background-color: #E8F0FE;\n",
              "      border: none;\n",
              "      border-radius: 50%;\n",
              "      cursor: pointer;\n",
              "      display: none;\n",
              "      fill: #1967D2;\n",
              "      height: 32px;\n",
              "      padding: 0 0 0 0;\n",
              "      width: 32px;\n",
              "    }\n",
              "\n",
              "    .colab-df-convert:hover {\n",
              "      background-color: #E2EBFA;\n",
              "      box-shadow: 0px 1px 2px rgba(60, 64, 67, 0.3), 0px 1px 3px 1px rgba(60, 64, 67, 0.15);\n",
              "      fill: #174EA6;\n",
              "    }\n",
              "\n",
              "    [theme=dark] .colab-df-convert {\n",
              "      background-color: #3B4455;\n",
              "      fill: #D2E3FC;\n",
              "    }\n",
              "\n",
              "    [theme=dark] .colab-df-convert:hover {\n",
              "      background-color: #434B5C;\n",
              "      box-shadow: 0px 1px 3px 1px rgba(0, 0, 0, 0.15);\n",
              "      filter: drop-shadow(0px 1px 2px rgba(0, 0, 0, 0.3));\n",
              "      fill: #FFFFFF;\n",
              "    }\n",
              "  </style>\n",
              "\n",
              "      <script>\n",
              "        const buttonEl =\n",
              "          document.querySelector('#df-182de8d7-d55c-42c8-a1a3-2f247f9ad4cf button.colab-df-convert');\n",
              "        buttonEl.style.display =\n",
              "          google.colab.kernel.accessAllowed ? 'block' : 'none';\n",
              "\n",
              "        async function convertToInteractive(key) {\n",
              "          const element = document.querySelector('#df-182de8d7-d55c-42c8-a1a3-2f247f9ad4cf');\n",
              "          const dataTable =\n",
              "            await google.colab.kernel.invokeFunction('convertToInteractive',\n",
              "                                                     [key], {});\n",
              "          if (!dataTable) return;\n",
              "\n",
              "          const docLinkHtml = 'Like what you see? Visit the ' +\n",
              "            '<a target=\"_blank\" href=https://colab.research.google.com/notebooks/data_table.ipynb>data table notebook</a>'\n",
              "            + ' to learn more about interactive tables.';\n",
              "          element.innerHTML = '';\n",
              "          dataTable['output_type'] = 'display_data';\n",
              "          await google.colab.output.renderOutput(dataTable, element);\n",
              "          const docLink = document.createElement('div');\n",
              "          docLink.innerHTML = docLinkHtml;\n",
              "          element.appendChild(docLink);\n",
              "        }\n",
              "      </script>\n",
              "    </div>\n",
              "  </div>\n",
              "  "
            ]
          },
          "metadata": {},
          "execution_count": 2
        }
      ]
    },
    {
      "cell_type": "code",
      "source": [
        "from sklearn.preprocessing import LabelEncoder\n",
        "le = LabelEncoder()\n",
        "df['Genre'] = le.fit_transform(df['Genre'])"
      ],
      "metadata": {
        "id": "5gdRIOUsouGX"
      },
      "execution_count": 6,
      "outputs": []
    },
    {
      "cell_type": "code",
      "source": [
        "df"
      ],
      "metadata": {
        "colab": {
          "base_uri": "https://localhost:8080/",
          "height": 424
        },
        "id": "c9L2PCOFowG_",
        "outputId": "bceaf090-b98e-463f-cf09-e270de1a75e2"
      },
      "execution_count": 7,
      "outputs": [
        {
          "output_type": "execute_result",
          "data": {
            "text/plain": [
              "     CustomerID  Genre  Age  Annual Income (k$)  Spending Score (1-100)\n",
              "0             1      1   19                  15                      39\n",
              "1             2      1   21                  15                      81\n",
              "2             3      0   20                  16                       6\n",
              "3             4      0   23                  16                      77\n",
              "4             5      0   31                  17                      40\n",
              "..          ...    ...  ...                 ...                     ...\n",
              "195         196      0   35                 120                      79\n",
              "196         197      0   45                 126                      28\n",
              "197         198      1   32                 126                      74\n",
              "198         199      1   32                 137                      18\n",
              "199         200      1   30                 137                      83\n",
              "\n",
              "[200 rows x 5 columns]"
            ],
            "text/html": [
              "\n",
              "  <div id=\"df-c9ac5c58-f1d9-4816-b539-cd8280528679\">\n",
              "    <div class=\"colab-df-container\">\n",
              "      <div>\n",
              "<style scoped>\n",
              "    .dataframe tbody tr th:only-of-type {\n",
              "        vertical-align: middle;\n",
              "    }\n",
              "\n",
              "    .dataframe tbody tr th {\n",
              "        vertical-align: top;\n",
              "    }\n",
              "\n",
              "    .dataframe thead th {\n",
              "        text-align: right;\n",
              "    }\n",
              "</style>\n",
              "<table border=\"1\" class=\"dataframe\">\n",
              "  <thead>\n",
              "    <tr style=\"text-align: right;\">\n",
              "      <th></th>\n",
              "      <th>CustomerID</th>\n",
              "      <th>Genre</th>\n",
              "      <th>Age</th>\n",
              "      <th>Annual Income (k$)</th>\n",
              "      <th>Spending Score (1-100)</th>\n",
              "    </tr>\n",
              "  </thead>\n",
              "  <tbody>\n",
              "    <tr>\n",
              "      <th>0</th>\n",
              "      <td>1</td>\n",
              "      <td>1</td>\n",
              "      <td>19</td>\n",
              "      <td>15</td>\n",
              "      <td>39</td>\n",
              "    </tr>\n",
              "    <tr>\n",
              "      <th>1</th>\n",
              "      <td>2</td>\n",
              "      <td>1</td>\n",
              "      <td>21</td>\n",
              "      <td>15</td>\n",
              "      <td>81</td>\n",
              "    </tr>\n",
              "    <tr>\n",
              "      <th>2</th>\n",
              "      <td>3</td>\n",
              "      <td>0</td>\n",
              "      <td>20</td>\n",
              "      <td>16</td>\n",
              "      <td>6</td>\n",
              "    </tr>\n",
              "    <tr>\n",
              "      <th>3</th>\n",
              "      <td>4</td>\n",
              "      <td>0</td>\n",
              "      <td>23</td>\n",
              "      <td>16</td>\n",
              "      <td>77</td>\n",
              "    </tr>\n",
              "    <tr>\n",
              "      <th>4</th>\n",
              "      <td>5</td>\n",
              "      <td>0</td>\n",
              "      <td>31</td>\n",
              "      <td>17</td>\n",
              "      <td>40</td>\n",
              "    </tr>\n",
              "    <tr>\n",
              "      <th>...</th>\n",
              "      <td>...</td>\n",
              "      <td>...</td>\n",
              "      <td>...</td>\n",
              "      <td>...</td>\n",
              "      <td>...</td>\n",
              "    </tr>\n",
              "    <tr>\n",
              "      <th>195</th>\n",
              "      <td>196</td>\n",
              "      <td>0</td>\n",
              "      <td>35</td>\n",
              "      <td>120</td>\n",
              "      <td>79</td>\n",
              "    </tr>\n",
              "    <tr>\n",
              "      <th>196</th>\n",
              "      <td>197</td>\n",
              "      <td>0</td>\n",
              "      <td>45</td>\n",
              "      <td>126</td>\n",
              "      <td>28</td>\n",
              "    </tr>\n",
              "    <tr>\n",
              "      <th>197</th>\n",
              "      <td>198</td>\n",
              "      <td>1</td>\n",
              "      <td>32</td>\n",
              "      <td>126</td>\n",
              "      <td>74</td>\n",
              "    </tr>\n",
              "    <tr>\n",
              "      <th>198</th>\n",
              "      <td>199</td>\n",
              "      <td>1</td>\n",
              "      <td>32</td>\n",
              "      <td>137</td>\n",
              "      <td>18</td>\n",
              "    </tr>\n",
              "    <tr>\n",
              "      <th>199</th>\n",
              "      <td>200</td>\n",
              "      <td>1</td>\n",
              "      <td>30</td>\n",
              "      <td>137</td>\n",
              "      <td>83</td>\n",
              "    </tr>\n",
              "  </tbody>\n",
              "</table>\n",
              "<p>200 rows × 5 columns</p>\n",
              "</div>\n",
              "      <button class=\"colab-df-convert\" onclick=\"convertToInteractive('df-c9ac5c58-f1d9-4816-b539-cd8280528679')\"\n",
              "              title=\"Convert this dataframe to an interactive table.\"\n",
              "              style=\"display:none;\">\n",
              "        \n",
              "  <svg xmlns=\"http://www.w3.org/2000/svg\" height=\"24px\"viewBox=\"0 0 24 24\"\n",
              "       width=\"24px\">\n",
              "    <path d=\"M0 0h24v24H0V0z\" fill=\"none\"/>\n",
              "    <path d=\"M18.56 5.44l.94 2.06.94-2.06 2.06-.94-2.06-.94-.94-2.06-.94 2.06-2.06.94zm-11 1L8.5 8.5l.94-2.06 2.06-.94-2.06-.94L8.5 2.5l-.94 2.06-2.06.94zm10 10l.94 2.06.94-2.06 2.06-.94-2.06-.94-.94-2.06-.94 2.06-2.06.94z\"/><path d=\"M17.41 7.96l-1.37-1.37c-.4-.4-.92-.59-1.43-.59-.52 0-1.04.2-1.43.59L10.3 9.45l-7.72 7.72c-.78.78-.78 2.05 0 2.83L4 21.41c.39.39.9.59 1.41.59.51 0 1.02-.2 1.41-.59l7.78-7.78 2.81-2.81c.8-.78.8-2.07 0-2.86zM5.41 20L4 18.59l7.72-7.72 1.47 1.35L5.41 20z\"/>\n",
              "  </svg>\n",
              "      </button>\n",
              "      \n",
              "  <style>\n",
              "    .colab-df-container {\n",
              "      display:flex;\n",
              "      flex-wrap:wrap;\n",
              "      gap: 12px;\n",
              "    }\n",
              "\n",
              "    .colab-df-convert {\n",
              "      background-color: #E8F0FE;\n",
              "      border: none;\n",
              "      border-radius: 50%;\n",
              "      cursor: pointer;\n",
              "      display: none;\n",
              "      fill: #1967D2;\n",
              "      height: 32px;\n",
              "      padding: 0 0 0 0;\n",
              "      width: 32px;\n",
              "    }\n",
              "\n",
              "    .colab-df-convert:hover {\n",
              "      background-color: #E2EBFA;\n",
              "      box-shadow: 0px 1px 2px rgba(60, 64, 67, 0.3), 0px 1px 3px 1px rgba(60, 64, 67, 0.15);\n",
              "      fill: #174EA6;\n",
              "    }\n",
              "\n",
              "    [theme=dark] .colab-df-convert {\n",
              "      background-color: #3B4455;\n",
              "      fill: #D2E3FC;\n",
              "    }\n",
              "\n",
              "    [theme=dark] .colab-df-convert:hover {\n",
              "      background-color: #434B5C;\n",
              "      box-shadow: 0px 1px 3px 1px rgba(0, 0, 0, 0.15);\n",
              "      filter: drop-shadow(0px 1px 2px rgba(0, 0, 0, 0.3));\n",
              "      fill: #FFFFFF;\n",
              "    }\n",
              "  </style>\n",
              "\n",
              "      <script>\n",
              "        const buttonEl =\n",
              "          document.querySelector('#df-c9ac5c58-f1d9-4816-b539-cd8280528679 button.colab-df-convert');\n",
              "        buttonEl.style.display =\n",
              "          google.colab.kernel.accessAllowed ? 'block' : 'none';\n",
              "\n",
              "        async function convertToInteractive(key) {\n",
              "          const element = document.querySelector('#df-c9ac5c58-f1d9-4816-b539-cd8280528679');\n",
              "          const dataTable =\n",
              "            await google.colab.kernel.invokeFunction('convertToInteractive',\n",
              "                                                     [key], {});\n",
              "          if (!dataTable) return;\n",
              "\n",
              "          const docLinkHtml = 'Like what you see? Visit the ' +\n",
              "            '<a target=\"_blank\" href=https://colab.research.google.com/notebooks/data_table.ipynb>data table notebook</a>'\n",
              "            + ' to learn more about interactive tables.';\n",
              "          element.innerHTML = '';\n",
              "          dataTable['output_type'] = 'display_data';\n",
              "          await google.colab.output.renderOutput(dataTable, element);\n",
              "          const docLink = document.createElement('div');\n",
              "          docLink.innerHTML = docLinkHtml;\n",
              "          element.appendChild(docLink);\n",
              "        }\n",
              "      </script>\n",
              "    </div>\n",
              "  </div>\n",
              "  "
            ]
          },
          "metadata": {},
          "execution_count": 7
        }
      ]
    },
    {
      "cell_type": "code",
      "source": [
        "plt.hist(df['Age'])"
      ],
      "metadata": {
        "colab": {
          "base_uri": "https://localhost:8080/",
          "height": 317
        },
        "id": "SDpbAdQNo9TS",
        "outputId": "59a596b3-f3bc-4d19-fa38-7e627a8ae826"
      },
      "execution_count": 8,
      "outputs": [
        {
          "output_type": "execute_result",
          "data": {
            "text/plain": [
              "(array([31., 19., 34., 29., 16., 26., 15., 10.,  6., 14.]),\n",
              " array([18. , 23.2, 28.4, 33.6, 38.8, 44. , 49.2, 54.4, 59.6, 64.8, 70. ]),\n",
              " <a list of 10 Patch objects>)"
            ]
          },
          "metadata": {},
          "execution_count": 8
        },
        {
          "output_type": "display_data",
          "data": {
            "text/plain": [
              "<Figure size 432x288 with 1 Axes>"
            ],
            "image/png": "[encoded data removed]"
          },
          "metadata": {
            "needs_background": "light"
          }
        }
      ]
    },
    {
      "cell_type": "code",
      "source": [
        "plt.hist(df['Annual Income (k$)'])"
      ],
      "metadata": {
        "colab": {
          "base_uri": "https://localhost:8080/",
          "height": 334
        },
        "id": "UjFtNESWpAEs",
        "outputId": "4598d29c-f252-4274-c456-d732905c9ab5"
      },
      "execution_count": 9,
      "outputs": [
        {
          "output_type": "execute_result",
          "data": {
            "text/plain": [
              "(array([24., 22., 28., 38., 30., 36.,  8.,  6.,  4.,  4.]),\n",
              " array([ 15. ,  27.2,  39.4,  51.6,  63.8,  76. ,  88.2, 100.4, 112.6,\n",
              "        124.8, 137. ]),\n",
              " <a list of 10 Patch objects>)"
            ]
          },
          "metadata": {},
          "execution_count": 9
        },
        {
          "output_type": "display_data",
          "data": {
            "text/plain": [
              "<Figure size 432x288 with 1 Axes>"
            ],
            "image/png": "[encoded data removed]"
          },
          "metadata": {
            "needs_background": "light"
          }
        }
      ]
    },
    {
      "cell_type": "code",
      "source": [
        "plt.hist(df['Spending Score (1-100)'])"
      ],
      "metadata": {
        "colab": {
          "base_uri": "https://localhost:8080/",
          "height": 317
        },
        "id": "1yv0xUbqpClZ",
        "outputId": "95010f87-abc7-401d-e9d9-3055c8572373"
      },
      "execution_count": 10,
      "outputs": [
        {
          "output_type": "execute_result",
          "data": {
            "text/plain": [
              "(array([16., 20., 10., 17., 35., 37., 11., 24., 14., 16.]),\n",
              " array([ 1. , 10.8, 20.6, 30.4, 40.2, 50. , 59.8, 69.6, 79.4, 89.2, 99. ]),\n",
              " <a list of 10 Patch objects>)"
            ]
          },
          "metadata": {},
          "execution_count": 10
        },
        {
          "output_type": "display_data",
          "data": {
            "text/plain": [
              "<Figure size 432x288 with 1 Axes>"
            ],
            "image/png": "[encoded data removed]"
          },
          "metadata": {
            "needs_background": "light"
          }
        }
      ]
    },
    {
      "cell_type": "code",
      "source": [
        "sns.countplot(df['Genre'])"
      ],
      "metadata": {
        "colab": {
          "base_uri": "https://localhost:8080/",
          "height": 351
        },
        "id": "SCtOr3v-pFAj",
        "outputId": "43c4031e-c8d1-4fef-97af-dcf0acd51c42"
      },
      "execution_count": 11,
      "outputs": [
        {
          "output_type": "stream",
          "name": "stderr",
          "text": [
            "/usr/local/lib/python3.7/dist-packages/seaborn/_decorators.py:43: FutureWarning: Pass the following variable as a keyword arg: x. From version 0.12, the only valid positional argument will be `data`, and passing other arguments without an explicit keyword will result in an error or misinterpretation.\n",
            "  FutureWarning\n"
          ]
        },
        {
          "output_type": "execute_result",
          "data": {
            "text/plain": [
              "<matplotlib.axes._subplots.AxesSubplot at 0x7fd69a78ca50>"
            ]
          },
          "metadata": {},
          "execution_count": 11
        },
        {
          "output_type": "display_data",
          "data": {
            "text/plain": [
              "<Figure size 432x288 with 1 Axes>"
            ],
            "image/png": "[encoded data removed]"
          },
          "metadata": {
            "needs_background": "light"
          }
        }
      ]
    },
    {
      "cell_type": "code",
      "source": [
        "sns.scatterplot(df['Annual Income (k$)'], df['Spending Score (1-100)'])"
      ],
      "metadata": {
        "colab": {
          "base_uri": "https://localhost:8080/",
          "height": 351
        },
        "id": "kwdw8T_XpIab",
        "outputId": "e127bdbe-92ab-4277-f45b-6fff7f3261c2"
      },
      "execution_count": 12,
      "outputs": [
        {
          "output_type": "stream",
          "name": "stderr",
          "text": [
            "/usr/local/lib/python3.7/dist-packages/seaborn/_decorators.py:43: FutureWarning: Pass the following variables as keyword args: x, y. From version 0.12, the only valid positional argument will be `data`, and passing other arguments without an explicit keyword will result in an error or misinterpretation.\n",
            "  FutureWarning\n"
          ]
        },
        {
          "output_type": "execute_result",
          "data": {
            "text/plain": [
              "<matplotlib.axes._subplots.AxesSubplot at 0x7fd69a778c90>"
            ]
          },
          "metadata": {},
          "execution_count": 12
        },
        {
          "output_type": "display_data",
          "data": {
            "text/plain": [
              "<Figure size 432x288 with 1 Axes>"
            ],
            "image/png": "[encoded data removed]"
          },
          "metadata": {
            "needs_background": "light"
          }
        }
      ]
    },
    {
      "cell_type": "code",
      "source": [
        "sns.barplot(df['Genre'], df['Age'])"
      ],
      "metadata": {
        "colab": {
          "base_uri": "https://localhost:8080/",
          "height": 351
        },
        "id": "FXq5uBLqpLKl",
        "outputId": "a3443c38-8b94-4b63-db94-2f3383fd345d"
      },
      "execution_count": 15,
      "outputs": [
        {
          "output_type": "stream",
          "name": "stderr",
          "text": [
            "/usr/local/lib/python3.7/dist-packages/seaborn/_decorators.py:43: FutureWarning: Pass the following variables as keyword args: x, y. From version 0.12, the only valid positional argument will be `data`, and passing other arguments without an explicit keyword will result in an error or misinterpretation.\n",
            "  FutureWarning\n"
          ]
        },
        {
          "output_type": "execute_result",
          "data": {
            "text/plain": [
              "<matplotlib.axes._subplots.AxesSubplot at 0x7fd697dfc690>"
            ]
          },
          "metadata": {},
          "execution_count": 15
        },
        {
          "output_type": "display_data",
          "data": {
            "text/plain": [
              "<Figure size 432x288 with 1 Axes>"
            ],
            "image/png": "[encoded data removed]"
          },
          "metadata": {
            "needs_background": "light"
          }
        }
      ]
    },
    {
      "cell_type": "code",
      "source": [
        "sns.heatmap(df.corr(), annot = True)"
      ],
      "metadata": {
        "colab": {
          "base_uri": "https://localhost:8080/",
          "height": 394
        },
        "id": "gqMfagekpNcC",
        "outputId": "c5fccd12-a992-495c-e3b1-695c2e50b408"
      },
      "execution_count": 16,
      "outputs": [
        {
          "output_type": "execute_result",
          "data": {
            "text/plain": [
              "<matplotlib.axes._subplots.AxesSubplot at 0x7fd697d5f250>"
            ]
          },
          "metadata": {},
          "execution_count": 16
        },
        {
          "output_type": "display_data",
          "data": {
            "text/plain": [
              "<Figure size 432x288 with 2 Axes>"
            ],
            "image/png": "[encoded data removed]"
          },
          "metadata": {
            "needs_background": "light"
          }
        }
      ]
    },
    {
      "cell_type": "code",
      "source": [
        "sns.pairplot(df)"
      ],
      "metadata": {
        "colab": {
          "base_uri": "https://localhost:8080/",
          "height": 920
        },
        "id": "jjROPSOypPip",
        "outputId": "9d362342-0120-46c5-e170-1129e2e89c0a"
      },
      "execution_count": 18,
      "outputs": [
        {
          "output_type": "execute_result",
          "data": {
            "text/plain": [
              "<seaborn.axisgrid.PairGrid at 0x7fd697cafc10>"
            ]
          },
          "metadata": {},
          "execution_count": 18
        },
        {
          "output_type": "display_data",
          "data": {
            "text/plain": [
              "<Figure size 900x900 with 30 Axes>"
            ],
            "image/png": "[encoded data removed]"
          },
          "metadata": {
            "needs_background": "light"
          }
        }
      ]
    },
    {
      "cell_type": "code",
      "source": [
        "df.info()"
      ],
      "metadata": {
        "colab": {
          "base_uri": "https://localhost:8080/"
        },
        "id": "_Qlfm5pRpXvv",
        "outputId": "60240ddc-278c-4025-bb8c-5b799dfd19f1"
      },
      "execution_count": 19,
      "outputs": [
        {
          "output_type": "stream",
          "name": "stdout",
          "text": [
            "<class 'pandas.core.frame.DataFrame'>\n",
            "RangeIndex: 200 entries, 0 to 199\n",
            "Data columns (total 5 columns):\n",
            " #   Column                  Non-Null Count  Dtype\n",
            "---  ------                  --------------  -----\n",
            " 0   CustomerID              200 non-null    int64\n",
            " 1   Genre                   200 non-null    int64\n",
            " 2   Age                     200 non-null    int64\n",
            " 3   Annual Income (k$)      200 non-null    int64\n",
            " 4   Spending Score (1-100)  200 non-null    int64\n",
            "dtypes: int64(5)\n",
            "memory usage: 7.9 KB\n"
          ]
        }
      ]
    },
    {
      "cell_type": "code",
      "source": [
        "df.describe()"
      ],
      "metadata": {
        "colab": {
          "base_uri": "https://localhost:8080/",
          "height": 300
        },
        "id": "yYkmz0hApgQq",
        "outputId": "cb906c4c-0067-4ecd-f332-0d3fdfd5e033"
      },
      "execution_count": 20,
      "outputs": [
        {
          "output_type": "execute_result",
          "data": {
            "text/plain": [
              "       CustomerID       Genre         Age  Annual Income (k$)  \\\n",
              "count  200.000000  200.000000  200.000000          200.000000   \n",
              "mean   100.500000    0.440000   38.850000           60.560000   \n",
              "std     57.879185    0.497633   13.969007           26.264721   \n",
              "min      1.000000    0.000000   18.000000           15.000000   \n",
              "25%     50.750000    0.000000   28.750000           41.500000   \n",
              "50%    100.500000    0.000000   36.000000           61.500000   \n",
              "75%    150.250000    1.000000   49.000000           78.000000   \n",
              "max    200.000000    1.000000   70.000000          137.000000   \n",
              "\n",
              "       Spending Score (1-100)  \n",
              "count              200.000000  \n",
              "mean                50.200000  \n",
              "std                 25.823522  \n",
              "min                  1.000000  \n",
              "25%                 34.750000  \n",
              "50%                 50.000000  \n",
              "75%                 73.000000  \n",
              "max                 99.000000  "
            ],
            "text/html": [
              "\n",
              "  <div id=\"df-d5663850-9b42-4ed7-97d1-fdfc4a660389\">\n",
              "    <div class=\"colab-df-container\">\n",
              "      <div>\n",
              "<style scoped>\n",
              "    .dataframe tbody tr th:only-of-type {\n",
              "        vertical-align: middle;\n",
              "    }\n",
              "\n",
              "    .dataframe tbody tr th {\n",
              "        vertical-align: top;\n",
              "    }\n",
              "\n",
              "    .dataframe thead th {\n",
              "        text-align: right;\n",
              "    }\n",
              "</style>\n",
              "<table border=\"1\" class=\"dataframe\">\n",
              "  <thead>\n",
              "    <tr style=\"text-align: right;\">\n",
              "      <th></th>\n",
              "      <th>CustomerID</th>\n",
              "      <th>Genre</th>\n",
              "      <th>Age</th>\n",
              "      <th>Annual Income (k$)</th>\n",
              "      <th>Spending Score (1-100)</th>\n",
              "    </tr>\n",
              "  </thead>\n",
              "  <tbody>\n",
              "    <tr>\n",
              "      <th>count</th>\n",
              "      <td>200.000000</td>\n",
              "      <td>200.000000</td>\n",
              "      <td>200.000000</td>\n",
              "      <td>200.000000</td>\n",
              "      <td>200.000000</td>\n",
              "    </tr>\n",
              "    <tr>\n",
              "      <th>mean</th>\n",
              "      <td>100.500000</td>\n",
              "      <td>0.440000</td>\n",
              "      <td>38.850000</td>\n",
              "      <td>60.560000</td>\n",
              "      <td>50.200000</td>\n",
              "    </tr>\n",
              "    <tr>\n",
              "      <th>std</th>\n",
              "      <td>57.879185</td>\n",
              "      <td>0.497633</td>\n",
              "      <td>13.969007</td>\n",
              "      <td>26.264721</td>\n",
              "      <td>25.823522</td>\n",
              "    </tr>\n",
              "    <tr>\n",
              "      <th>min</th>\n",
              "      <td>1.000000</td>\n",
              "      <td>0.000000</td>\n",
              "      <td>18.000000</td>\n",
              "      <td>15.000000</td>\n",
              "      <td>1.000000</td>\n",
              "    </tr>\n",
              "    <tr>\n",
              "      <th>25%</th>\n",
              "      <td>50.750000</td>\n",
              "      <td>0.000000</td>\n",
              "      <td>28.750000</td>\n",
              "      <td>41.500000</td>\n",
              "      <td>34.750000</td>\n",
              "    </tr>\n",
              "    <tr>\n",
              "      <th>50%</th>\n",
              "      <td>100.500000</td>\n",
              "      <td>0.000000</td>\n",
              "      <td>36.000000</td>\n",
              "      <td>61.500000</td>\n",
              "      <td>50.000000</td>\n",
              "    </tr>\n",
              "    <tr>\n",
              "      <th>75%</th>\n",
              "      <td>150.250000</td>\n",
              "      <td>1.000000</td>\n",
              "      <td>49.000000</td>\n",
              "      <td>78.000000</td>\n",
              "      <td>73.000000</td>\n",
              "    </tr>\n",
              "    <tr>\n",
              "      <th>max</th>\n",
              "      <td>200.000000</td>\n",
              "      <td>1.000000</td>\n",
              "      <td>70.000000</td>\n",
              "      <td>137.000000</td>\n",
              "      <td>99.000000</td>\n",
              "    </tr>\n",
              "  </tbody>\n",
              "</table>\n",
              "</div>\n",
              "      <button class=\"colab-df-convert\" onclick=\"convertToInteractive('df-d5663850-9b42-4ed7-97d1-fdfc4a660389')\"\n",
              "              title=\"Convert this dataframe to an interactive table.\"\n",
              "              style=\"display:none;\">\n",
              "        \n",
              "  <svg xmlns=\"http://www.w3.org/2000/svg\" height=\"24px\"viewBox=\"0 0 24 24\"\n",
              "       width=\"24px\">\n",
              "    <path d=\"M0 0h24v24H0V0z\" fill=\"none\"/>\n",
              "    <path d=\"M18.56 5.44l.94 2.06.94-2.06 2.06-.94-2.06-.94-.94-2.06-.94 2.06-2.06.94zm-11 1L8.5 8.5l.94-2.06 2.06-.94-2.06-.94L8.5 2.5l-.94 2.06-2.06.94zm10 10l.94 2.06.94-2.06 2.06-.94-2.06-.94-.94-2.06-.94 2.06-2.06.94z\"/><path d=\"M17.41 7.96l-1.37-1.37c-.4-.4-.92-.59-1.43-.59-.52 0-1.04.2-1.43.59L10.3 9.45l-7.72 7.72c-.78.78-.78 2.05 0 2.83L4 21.41c.39.39.9.59 1.41.59.51 0 1.02-.2 1.41-.59l7.78-7.78 2.81-2.81c.8-.78.8-2.07 0-2.86zM5.41 20L4 18.59l7.72-7.72 1.47 1.35L5.41 20z\"/>\n",
              "  </svg>\n",
              "      </button>\n",
              "      \n",
              "  <style>\n",
              "    .colab-df-container {\n",
              "      display:flex;\n",
              "      flex-wrap:wrap;\n",
              "      gap: 12px;\n",
              "    }\n",
              "\n",
              "    .colab-df-convert {\n",
              "      background-color: #E8F0FE;\n",
              "      border: none;\n",
              "      border-radius: 50%;\n",
              "      cursor: pointer;\n",
              "      display: none;\n",
              "      fill: #1967D2;\n",
              "      height: 32px;\n",
              "      padding: 0 0 0 0;\n",
              "      width: 32px;\n",
              "    }\n",
              "\n",
              "    .colab-df-convert:hover {\n",
              "      background-color: #E2EBFA;\n",
              "      box-shadow: 0px 1px 2px rgba(60, 64, 67, 0.3), 0px 1px 3px 1px rgba(60, 64, 67, 0.15);\n",
              "      fill: #174EA6;\n",
              "    }\n",
              "\n",
              "    [theme=dark] .colab-df-convert {\n",
              "      background-color: #3B4455;\n",
              "      fill: #D2E3FC;\n",
              "    }\n",
              "\n",
              "    [theme=dark] .colab-df-convert:hover {\n",
              "      background-color: #434B5C;\n",
              "      box-shadow: 0px 1px 3px 1px rgba(0, 0, 0, 0.15);\n",
              "      filter: drop-shadow(0px 1px 2px rgba(0, 0, 0, 0.3));\n",
              "      fill: #FFFFFF;\n",
              "    }\n",
              "  </style>\n",
              "\n",
              "      <script>\n",
              "        const buttonEl =\n",
              "          document.querySelector('#df-d5663850-9b42-4ed7-97d1-fdfc4a660389 button.colab-df-convert');\n",
              "        buttonEl.style.display =\n",
              "          google.colab.kernel.accessAllowed ? 'block' : 'none';\n",
              "\n",
              "        async function convertToInteractive(key) {\n",
              "          const element = document.querySelector('#df-d5663850-9b42-4ed7-97d1-fdfc4a660389');\n",
              "          const dataTable =\n",
              "            await google.colab.kernel.invokeFunction('convertToInteractive',\n",
              "                                                     [key], {});\n",
              "          if (!dataTable) return;\n",
              "\n",
              "          const docLinkHtml = 'Like what you see? Visit the ' +\n",
              "            '<a target=\"_blank\" href=https://colab.research.google.com/notebooks/data_table.ipynb>data table notebook</a>'\n",
              "            + ' to learn more about interactive tables.';\n",
              "          element.innerHTML = '';\n",
              "          dataTable['output_type'] = 'display_data';\n",
              "          await google.colab.output.renderOutput(dataTable, element);\n",
              "          const docLink = document.createElement('div');\n",
              "          docLink.innerHTML = docLinkHtml;\n",
              "          element.appendChild(docLink);\n",
              "        }\n",
              "      </script>\n",
              "    </div>\n",
              "  </div>\n",
              "  "
            ]
          },
          "metadata": {},
          "execution_count": 20
        }
      ]
    },
    {
      "cell_type": "code",
      "source": [
        "df.skew()"
      ],
      "metadata": {
        "colab": {
          "base_uri": "https://localhost:8080/"
        },
        "id": "Fibjed0qphtJ",
        "outputId": "98412139-162b-47b2-aafd-89a34ed02122"
      },
      "execution_count": 21,
      "outputs": [
        {
          "output_type": "execute_result",
          "data": {
            "text/plain": [
              "CustomerID                0.000000\n",
              "Genre                     0.243578\n",
              "Age                       0.485569\n",
              "Annual Income (k$)        0.321843\n",
              "Spending Score (1-100)   -0.047220\n",
              "dtype: float64"
            ]
          },
          "metadata": {},
          "execution_count": 21
        }
      ]
    },
    {
      "cell_type": "code",
      "source": [
        "df.kurt()"
      ],
      "metadata": {
        "id": "eJfX1p6-pjUY"
      },
      "execution_count": 21,
      "outputs": []
    },
    {
      "cell_type": "code",
      "source": [
        "df.corr()"
      ],
      "metadata": {
        "colab": {
          "base_uri": "https://localhost:8080/",
          "height": 206
        },
        "id": "oMvKD0kQpmB5",
        "outputId": "c0f50894-68e3-49fa-f179-84d43ada09bc"
      },
      "execution_count": 22,
      "outputs": [
        {
          "output_type": "execute_result",
          "data": {
            "text/plain": [
              "                        CustomerID     Genre       Age  Annual Income (k$)  \\\n",
              "CustomerID                1.000000  0.057400 -0.026763            0.977548   \n",
              "Genre                     0.057400  1.000000  0.060867            0.056410   \n",
              "Age                      -0.026763  0.060867  1.000000           -0.012398   \n",
              "Annual Income (k$)        0.977548  0.056410 -0.012398            1.000000   \n",
              "Spending Score (1-100)    0.013835 -0.058109 -0.327227            0.009903   \n",
              "\n",
              "                        Spending Score (1-100)  \n",
              "CustomerID                            0.013835  \n",
              "Genre                                -0.058109  \n",
              "Age                                  -0.327227  \n",
              "Annual Income (k$)                    0.009903  \n",
              "Spending Score (1-100)                1.000000  "
            ],
            "text/html": [
              "\n",
              "  <div id=\"df-47c631cf-2bd7-4340-921c-a47f1029ab6a\">\n",
              "    <div class=\"colab-df-container\">\n",
              "      <div>\n",
              "<style scoped>\n",
              "    .dataframe tbody tr th:only-of-type {\n",
              "        vertical-align: middle;\n",
              "    }\n",
              "\n",
              "    .dataframe tbody tr th {\n",
              "        vertical-align: top;\n",
              "    }\n",
              "\n",
              "    .dataframe thead th {\n",
              "        text-align: right;\n",
              "    }\n",
              "</style>\n",
              "<table border=\"1\" class=\"dataframe\">\n",
              "  <thead>\n",
              "    <tr style=\"text-align: right;\">\n",
              "      <th></th>\n",
              "      <th>CustomerID</th>\n",
              "      <th>Genre</th>\n",
              "      <th>Age</th>\n",
              "      <th>Annual Income (k$)</th>\n",
              "      <th>Spending Score (1-100)</th>\n",
              "    </tr>\n",
              "  </thead>\n",
              "  <tbody>\n",
              "    <tr>\n",
              "      <th>CustomerID</th>\n",
              "      <td>1.000000</td>\n",
              "      <td>0.057400</td>\n",
              "      <td>-0.026763</td>\n",
              "      <td>0.977548</td>\n",
              "      <td>0.013835</td>\n",
              "    </tr>\n",
              "    <tr>\n",
              "      <th>Genre</th>\n",
              "      <td>0.057400</td>\n",
              "      <td>1.000000</td>\n",
              "      <td>0.060867</td>\n",
              "      <td>0.056410</td>\n",
              "      <td>-0.058109</td>\n",
              "    </tr>\n",
              "    <tr>\n",
              "      <th>Age</th>\n",
              "      <td>-0.026763</td>\n",
              "      <td>0.060867</td>\n",
              "      <td>1.000000</td>\n",
              "      <td>-0.012398</td>\n",
              "      <td>-0.327227</td>\n",
              "    </tr>\n",
              "    <tr>\n",
              "      <th>Annual Income (k$)</th>\n",
              "      <td>0.977548</td>\n",
              "      <td>0.056410</td>\n",
              "      <td>-0.012398</td>\n",
              "      <td>1.000000</td>\n",
              "      <td>0.009903</td>\n",
              "    </tr>\n",
              "    <tr>\n",
              "      <th>Spending Score (1-100)</th>\n",
              "      <td>0.013835</td>\n",
              "      <td>-0.058109</td>\n",
              "      <td>-0.327227</td>\n",
              "      <td>0.009903</td>\n",
              "      <td>1.000000</td>\n",
              "    </tr>\n",
              "  </tbody>\n",
              "</table>\n",
              "</div>\n",
              "      <button class=\"colab-df-convert\" onclick=\"convertToInteractive('df-47c631cf-2bd7-4340-921c-a47f1029ab6a')\"\n",
              "              title=\"Convert this dataframe to an interactive table.\"\n",
              "              style=\"display:none;\">\n",
              "        \n",
              "  <svg xmlns=\"http://www.w3.org/2000/svg\" height=\"24px\"viewBox=\"0 0 24 24\"\n",
              "       width=\"24px\">\n",
              "    <path d=\"M0 0h24v24H0V0z\" fill=\"none\"/>\n",
              "    <path d=\"M18.56 5.44l.94 2.06.94-2.06 2.06-.94-2.06-.94-.94-2.06-.94 2.06-2.06.94zm-11 1L8.5 8.5l.94-2.06 2.06-.94-2.06-.94L8.5 2.5l-.94 2.06-2.06.94zm10 10l.94 2.06.94-2.06 2.06-.94-2.06-.94-.94-2.06-.94 2.06-2.06.94z\"/><path d=\"M17.41 7.96l-1.37-1.37c-.4-.4-.92-.59-1.43-.59-.52 0-1.04.2-1.43.59L10.3 9.45l-7.72 7.72c-.78.78-.78 2.05 0 2.83L4 21.41c.39.39.9.59 1.41.59.51 0 1.02-.2 1.41-.59l7.78-7.78 2.81-2.81c.8-.78.8-2.07 0-2.86zM5.41 20L4 18.59l7.72-7.72 1.47 1.35L5.41 20z\"/>\n",
              "  </svg>\n",
              "      </button>\n",
              "      \n",
              "  <style>\n",
              "    .colab-df-container {\n",
              "      display:flex;\n",
              "      flex-wrap:wrap;\n",
              "      gap: 12px;\n",
              "    }\n",
              "\n",
              "    .colab-df-convert {\n",
              "      background-color: #E8F0FE;\n",
              "      border: none;\n",
              "      border-radius: 50%;\n",
              "      cursor: pointer;\n",
              "      display: none;\n",
              "      fill: #1967D2;\n",
              "      height: 32px;\n",
              "      padding: 0 0 0 0;\n",
              "      width: 32px;\n",
              "    }\n",
              "\n",
              "    .colab-df-convert:hover {\n",
              "      background-color: #E2EBFA;\n",
              "      box-shadow: 0px 1px 2px rgba(60, 64, 67, 0.3), 0px 1px 3px 1px rgba(60, 64, 67, 0.15);\n",
              "      fill: #174EA6;\n",
              "    }\n",
              "\n",
              "    [theme=dark] .colab-df-convert {\n",
              "      background-color: #3B4455;\n",
              "      fill: #D2E3FC;\n",
              "    }\n",
              "\n",
              "    [theme=dark] .colab-df-convert:hover {\n",
              "      background-color: #434B5C;\n",
              "      box-shadow: 0px 1px 3px 1px rgba(0, 0, 0, 0.15);\n",
              "      filter: drop-shadow(0px 1px 2px rgba(0, 0, 0, 0.3));\n",
              "      fill: #FFFFFF;\n",
              "    }\n",
              "  </style>\n",
              "\n",
              "      <script>\n",
              "        const buttonEl =\n",
              "          document.querySelector('#df-47c631cf-2bd7-4340-921c-a47f1029ab6a button.colab-df-convert');\n",
              "        buttonEl.style.display =\n",
              "          google.colab.kernel.accessAllowed ? 'block' : 'none';\n",
              "\n",
              "        async function convertToInteractive(key) {\n",
              "          const element = document.querySelector('#df-47c631cf-2bd7-4340-921c-a47f1029ab6a');\n",
              "          const dataTable =\n",
              "            await google.colab.kernel.invokeFunction('convertToInteractive',\n",
              "                                                     [key], {});\n",
              "          if (!dataTable) return;\n",
              "\n",
              "          const docLinkHtml = 'Like what you see? Visit the ' +\n",
              "            '<a target=\"_blank\" href=https://colab.research.google.com/notebooks/data_table.ipynb>data table notebook</a>'\n",
              "            + ' to learn more about interactive tables.';\n",
              "          element.innerHTML = '';\n",
              "          dataTable['output_type'] = 'display_data';\n",
              "          await google.colab.output.renderOutput(dataTable, element);\n",
              "          const docLink = document.createElement('div');\n",
              "          docLink.innerHTML = docLinkHtml;\n",
              "          element.appendChild(docLink);\n",
              "        }\n",
              "      </script>\n",
              "    </div>\n",
              "  </div>\n",
              "  "
            ]
          },
          "metadata": {},
          "execution_count": 22
        }
      ]
    },
    {
      "cell_type": "code",
      "source": [
        "df.var()"
      ],
      "metadata": {
        "colab": {
          "base_uri": "https://localhost:8080/"
        },
        "id": "ockhmA9vpoY0",
        "outputId": "db58ce1f-5161-45fe-e303-321dab204ae6"
      },
      "execution_count": 23,
      "outputs": [
        {
          "output_type": "execute_result",
          "data": {
            "text/plain": [
              "CustomerID                3350.000000\n",
              "Genre                        0.247638\n",
              "Age                        195.133166\n",
              "Annual Income (k$)         689.835578\n",
              "Spending Score (1-100)     666.854271\n",
              "dtype: float64"
            ]
          },
          "metadata": {},
          "execution_count": 23
        }
      ]
    },
    {
      "cell_type": "code",
      "source": [
        "df.std()"
      ],
      "metadata": {
        "colab": {
          "base_uri": "https://localhost:8080/"
        },
        "id": "JB4Y6uITpqPA",
        "outputId": "435aee27-0fd4-4b00-fcf4-44c8b71f4705"
      },
      "execution_count": 24,
      "outputs": [
        {
          "output_type": "execute_result",
          "data": {
            "text/plain": [
              "CustomerID                57.879185\n",
              "Genre                      0.497633\n",
              "Age                       13.969007\n",
              "Annual Income (k$)        26.264721\n",
              "Spending Score (1-100)    25.823522\n",
              "dtype: float64"
            ]
          },
          "metadata": {},
          "execution_count": 24
        }
      ]
    },
    {
      "cell_type": "code",
      "source": [
        "df.isna().sum()"
      ],
      "metadata": {
        "colab": {
          "base_uri": "https://localhost:8080/"
        },
        "id": "QuB_o3eZprvY",
        "outputId": "8f6b319a-5e34-462d-de4c-864b618b05be"
      },
      "execution_count": 25,
      "outputs": [
        {
          "output_type": "execute_result",
          "data": {
            "text/plain": [
              "CustomerID                0\n",
              "Genre                     0\n",
              "Age                       0\n",
              "Annual Income (k$)        0\n",
              "Spending Score (1-100)    0\n",
              "dtype: int64"
            ]
          },
          "metadata": {},
          "execution_count": 25
        }
      ]
    },
    {
      "cell_type": "code",
      "source": [
        "df.isna().sum().sum()"
      ],
      "metadata": {
        "colab": {
          "base_uri": "https://localhost:8080/"
        },
        "id": "y9Vf2K4Nptk-",
        "outputId": "0615b873-40ad-43ab-b46f-9031bec86e74"
      },
      "execution_count": 26,
      "outputs": [
        {
          "output_type": "execute_result",
          "data": {
            "text/plain": [
              "0"
            ]
          },
          "metadata": {},
          "execution_count": 26
        }
      ]
    },
    {
      "cell_type": "code",
      "source": [
        "df.duplicated().sum()"
      ],
      "metadata": {
        "colab": {
          "base_uri": "https://localhost:8080/"
        },
        "id": "PMEUbiRypu6L",
        "outputId": "1933e20d-b9db-44f9-bec7-d4be9c395418"
      },
      "execution_count": 27,
      "outputs": [
        {
          "output_type": "execute_result",
          "data": {
            "text/plain": [
              "0"
            ]
          },
          "metadata": {},
          "execution_count": 27
        }
      ]
    },
    {
      "cell_type": "code",
      "source": [
        "quantile = df.quantile(q = [0.25, 0.75])\n",
        "quantile"
      ],
      "metadata": {
        "colab": {
          "base_uri": "https://localhost:8080/",
          "height": 112
        },
        "id": "YejBpThcpwdK",
        "outputId": "d5685a2b-c6c0-4a19-848b-bf6044697547"
      },
      "execution_count": 28,
      "outputs": [
        {
          "output_type": "execute_result",
          "data": {
            "text/plain": [
              "      CustomerID  Genre    Age  Annual Income (k$)  Spending Score (1-100)\n",
              "0.25       50.75    0.0  28.75                41.5                   34.75\n",
              "0.75      150.25    1.0  49.00                78.0                   73.00"
            ],
            "text/html": [
              "\n",
              "  <div id=\"df-09e516e8-055a-4c2f-8a6d-8966ca60f42e\">\n",
              "    <div class=\"colab-df-container\">\n",
              "      <div>\n",
              "<style scoped>\n",
              "    .dataframe tbody tr th:only-of-type {\n",
              "        vertical-align: middle;\n",
              "    }\n",
              "\n",
              "    .dataframe tbody tr th {\n",
              "        vertical-align: top;\n",
              "    }\n",
              "\n",
              "    .dataframe thead th {\n",
              "        text-align: right;\n",
              "    }\n",
              "</style>\n",
              "<table border=\"1\" class=\"dataframe\">\n",
              "  <thead>\n",
              "    <tr style=\"text-align: right;\">\n",
              "      <th></th>\n",
              "      <th>CustomerID</th>\n",
              "      <th>Genre</th>\n",
              "      <th>Age</th>\n",
              "      <th>Annual Income (k$)</th>\n",
              "      <th>Spending Score (1-100)</th>\n",
              "    </tr>\n",
              "  </thead>\n",
              "  <tbody>\n",
              "    <tr>\n",
              "      <th>0.25</th>\n",
              "      <td>50.75</td>\n",
              "      <td>0.0</td>\n",
              "      <td>28.75</td>\n",
              "      <td>41.5</td>\n",
              "      <td>34.75</td>\n",
              "    </tr>\n",
              "    <tr>\n",
              "      <th>0.75</th>\n",
              "      <td>150.25</td>\n",
              "      <td>1.0</td>\n",
              "      <td>49.00</td>\n",
              "      <td>78.0</td>\n",
              "      <td>73.00</td>\n",
              "    </tr>\n",
              "  </tbody>\n",
              "</table>\n",
              "</div>\n",
              "      <button class=\"colab-df-convert\" onclick=\"convertToInteractive('df-09e516e8-055a-4c2f-8a6d-8966ca60f42e')\"\n",
              "              title=\"Convert this dataframe to an interactive table.\"\n",
              "              style=\"display:none;\">\n",
              "        \n",
              "  <svg xmlns=\"http://www.w3.org/2000/svg\" height=\"24px\"viewBox=\"0 0 24 24\"\n",
              "       width=\"24px\">\n",
              "    <path d=\"M0 0h24v24H0V0z\" fill=\"none\"/>\n",
              "    <path d=\"M18.56 5.44l.94 2.06.94-2.06 2.06-.94-2.06-.94-.94-2.06-.94 2.06-2.06.94zm-11 1L8.5 8.5l.94-2.06 2.06-.94-2.06-.94L8.5 2.5l-.94 2.06-2.06.94zm10 10l.94 2.06.94-2.06 2.06-.94-2.06-.94-.94-2.06-.94 2.06-2.06.94z\"/><path d=\"M17.41 7.96l-1.37-1.37c-.4-.4-.92-.59-1.43-.59-.52 0-1.04.2-1.43.59L10.3 9.45l-7.72 7.72c-.78.78-.78 2.05 0 2.83L4 21.41c.39.39.9.59 1.41.59.51 0 1.02-.2 1.41-.59l7.78-7.78 2.81-2.81c.8-.78.8-2.07 0-2.86zM5.41 20L4 18.59l7.72-7.72 1.47 1.35L5.41 20z\"/>\n",
              "  </svg>\n",
              "      </button>\n",
              "      \n",
              "  <style>\n",
              "    .colab-df-container {\n",
              "      display:flex;\n",
              "      flex-wrap:wrap;\n",
              "      gap: 12px;\n",
              "    }\n",
              "\n",
              "    .colab-df-convert {\n",
              "      background-color: #E8F0FE;\n",
              "      border: none;\n",
              "      border-radius: 50%;\n",
              "      cursor: pointer;\n",
              "      display: none;\n",
              "      fill: #1967D2;\n",
              "      height: 32px;\n",
              "      padding: 0 0 0 0;\n",
              "      width: 32px;\n",
              "    }\n",
              "\n",
              "    .colab-df-convert:hover {\n",
              "      background-color: #E2EBFA;\n",
              "      box-shadow: 0px 1px 2px rgba(60, 64, 67, 0.3), 0px 1px 3px 1px rgba(60, 64, 67, 0.15);\n",
              "      fill: #174EA6;\n",
              "    }\n",
              "\n",
              "    [theme=dark] .colab-df-convert {\n",
              "      background-color: #3B4455;\n",
              "      fill: #D2E3FC;\n",
              "    }\n",
              "\n",
              "    [theme=dark] .colab-df-convert:hover {\n",
              "      background-color: #434B5C;\n",
              "      box-shadow: 0px 1px 3px 1px rgba(0, 0, 0, 0.15);\n",
              "      filter: drop-shadow(0px 1px 2px rgba(0, 0, 0, 0.3));\n",
              "      fill: #FFFFFF;\n",
              "    }\n",
              "  </style>\n",
              "\n",
              "      <script>\n",
              "        const buttonEl =\n",
              "          document.querySelector('#df-09e516e8-055a-4c2f-8a6d-8966ca60f42e button.colab-df-convert');\n",
              "        buttonEl.style.display =\n",
              "          google.colab.kernel.accessAllowed ? 'block' : 'none';\n",
              "\n",
              "        async function convertToInteractive(key) {\n",
              "          const element = document.querySelector('#df-09e516e8-055a-4c2f-8a6d-8966ca60f42e');\n",
              "          const dataTable =\n",
              "            await google.colab.kernel.invokeFunction('convertToInteractive',\n",
              "                                                     [key], {});\n",
              "          if (!dataTable) return;\n",
              "\n",
              "          const docLinkHtml = 'Like what you see? Visit the ' +\n",
              "            '<a target=\"_blank\" href=https://colab.research.google.com/notebooks/data_table.ipynb>data table notebook</a>'\n",
              "            + ' to learn more about interactive tables.';\n",
              "          element.innerHTML = '';\n",
              "          dataTable['output_type'] = 'display_data';\n",
              "          await google.colab.output.renderOutput(dataTable, element);\n",
              "          const docLink = document.createElement('div');\n",
              "          docLink.innerHTML = docLinkHtml;\n",
              "          element.appendChild(docLink);\n",
              "        }\n",
              "      </script>\n",
              "    </div>\n",
              "  </div>\n",
              "  "
            ]
          },
          "metadata": {},
          "execution_count": 28
        }
      ]
    },
    {
      "cell_type": "code",
      "source": [
        "IQR = quantile.iloc[1] - quantile.iloc[0]\n",
        "IQR"
      ],
      "metadata": {
        "colab": {
          "base_uri": "https://localhost:8080/"
        },
        "id": "QSRClpNmpzVj",
        "outputId": "40e878bc-256d-4375-85c4-b28af2f90c19"
      },
      "execution_count": 30,
      "outputs": [
        {
          "output_type": "execute_result",
          "data": {
            "text/plain": [
              "CustomerID                99.50\n",
              "Genre                      1.00\n",
              "Age                       20.25\n",
              "Annual Income (k$)        36.50\n",
              "Spending Score (1-100)    38.25\n",
              "dtype: float64"
            ]
          },
          "metadata": {},
          "execution_count": 30
        }
      ]
    },
    {
      "cell_type": "code",
      "source": [
        "upper = quantile.iloc[1] + (1.5 *IQR)\n",
        "upper"
      ],
      "metadata": {
        "colab": {
          "base_uri": "https://localhost:8080/"
        },
        "id": "h940oiedp2QH",
        "outputId": "e35aed5e-b2c6-4240-ad9c-b71364fad5a9"
      },
      "execution_count": 31,
      "outputs": [
        {
          "output_type": "execute_result",
          "data": {
            "text/plain": [
              "CustomerID                299.500\n",
              "Genre                       2.500\n",
              "Age                        79.375\n",
              "Annual Income (k$)        132.750\n",
              "Spending Score (1-100)    130.375\n",
              "dtype: float64"
            ]
          },
          "metadata": {},
          "execution_count": 31
        }
      ]
    },
    {
      "cell_type": "code",
      "source": [
        "lower = quantile.iloc[0] - (1.5* IQR)\n",
        "lower"
      ],
      "metadata": {
        "colab": {
          "base_uri": "https://localhost:8080/"
        },
        "id": "z1fCaslOp8vU",
        "outputId": "50b843ef-85b4-45df-c4ef-4803691ecf82"
      },
      "execution_count": 32,
      "outputs": [
        {
          "output_type": "execute_result",
          "data": {
            "text/plain": [
              "CustomerID               -98.500\n",
              "Genre                     -1.500\n",
              "Age                       -1.625\n",
              "Annual Income (k$)       -13.250\n",
              "Spending Score (1-100)   -22.625\n",
              "dtype: float64"
            ]
          },
          "metadata": {},
          "execution_count": 32
        }
      ]
    },
    {
      "cell_type": "code",
      "source": [
        "df.mean()"
      ],
      "metadata": {
        "colab": {
          "base_uri": "https://localhost:8080/"
        },
        "id": "NlJU-MVWp-ed",
        "outputId": "9d57048f-49bb-4ceb-f7c4-813d87253672"
      },
      "execution_count": 33,
      "outputs": [
        {
          "output_type": "execute_result",
          "data": {
            "text/plain": [
              "CustomerID                100.50\n",
              "Genre                       0.44\n",
              "Age                        38.85\n",
              "Annual Income (k$)         60.56\n",
              "Spending Score (1-100)     50.20\n",
              "dtype: float64"
            ]
          },
          "metadata": {},
          "execution_count": 33
        }
      ]
    },
    {
      "cell_type": "code",
      "source": [
        "df['Annual Income (k$)'].max()"
      ],
      "metadata": {
        "colab": {
          "base_uri": "https://localhost:8080/"
        },
        "id": "q6BHBibhp_-t",
        "outputId": "061856fa-1532-48da-a13d-83d9ecaf18bc"
      },
      "execution_count": 34,
      "outputs": [
        {
          "output_type": "execute_result",
          "data": {
            "text/plain": [
              "137"
            ]
          },
          "metadata": {},
          "execution_count": 34
        }
      ]
    },
    {
      "cell_type": "code",
      "source": [
        "sns.boxplot(df['CustomerID'])"
      ],
      "metadata": {
        "colab": {
          "base_uri": "https://localhost:8080/",
          "height": 351
        },
        "id": "QatEPnBoqCAH",
        "outputId": "fd3a5e14-e8aa-4a64-eb40-40276997d097"
      },
      "execution_count": 35,
      "outputs": [
        {
          "output_type": "stream",
          "name": "stderr",
          "text": [
            "/usr/local/lib/python3.7/dist-packages/seaborn/_decorators.py:43: FutureWarning: Pass the following variable as a keyword arg: x. From version 0.12, the only valid positional argument will be `data`, and passing other arguments without an explicit keyword will result in an error or misinterpretation.\n",
            "  FutureWarning\n"
          ]
        },
        {
          "output_type": "execute_result",
          "data": {
            "text/plain": [
              "<matplotlib.axes._subplots.AxesSubplot at 0x7fd6971126d0>"
            ]
          },
          "metadata": {},
          "execution_count": 35
        },
        {
          "output_type": "display_data",
          "data": {
            "text/plain": [
              "<Figure size 432x288 with 1 Axes>"
            ],
            "image/png": "[encoded data removed]"
          },
          "metadata": {
            "needs_background": "light"
          }
        }
      ]
    },
    {
      "cell_type": "code",
      "source": [
        "\n",
        "sns.boxplot(df['Genre'])"
      ],
      "metadata": {
        "colab": {
          "base_uri": "https://localhost:8080/",
          "height": 351
        },
        "id": "fMrDKK-PqDug",
        "outputId": "43dd1821-a809-4af6-fd6e-08e5e7612952"
      },
      "execution_count": 36,
      "outputs": [
        {
          "output_type": "stream",
          "name": "stderr",
          "text": [
            "/usr/local/lib/python3.7/dist-packages/seaborn/_decorators.py:43: FutureWarning: Pass the following variable as a keyword arg: x. From version 0.12, the only valid positional argument will be `data`, and passing other arguments without an explicit keyword will result in an error or misinterpretation.\n",
            "  FutureWarning\n"
          ]
        },
        {
          "output_type": "execute_result",
          "data": {
            "text/plain": [
              "<matplotlib.axes._subplots.AxesSubplot at 0x7fd6958f9b50>"
            ]
          },
          "metadata": {},
          "execution_count": 36
        },
        {
          "output_type": "display_data",
          "data": {
            "text/plain": [
              "<Figure size 432x288 with 1 Axes>"
            ],
            "image/png": "[encoded data removed]"
          },
          "metadata": {
            "needs_background": "light"
          }
        }
      ]
    },
    {
      "cell_type": "code",
      "source": [
        "sns.boxplot(df['Age'])"
      ],
      "metadata": {
        "colab": {
          "base_uri": "https://localhost:8080/",
          "height": 351
        },
        "id": "RRLogSo_qG2H",
        "outputId": "1d522842-462d-449f-e45b-5a84b9ca6028"
      },
      "execution_count": 37,
      "outputs": [
        {
          "output_type": "stream",
          "name": "stderr",
          "text": [
            "/usr/local/lib/python3.7/dist-packages/seaborn/_decorators.py:43: FutureWarning: Pass the following variable as a keyword arg: x. From version 0.12, the only valid positional argument will be `data`, and passing other arguments without an explicit keyword will result in an error or misinterpretation.\n",
            "  FutureWarning\n"
          ]
        },
        {
          "output_type": "execute_result",
          "data": {
            "text/plain": [
              "<matplotlib.axes._subplots.AxesSubplot at 0x7fd695864c10>"
            ]
          },
          "metadata": {},
          "execution_count": 37
        },
        {
          "output_type": "display_data",
          "data": {
            "text/plain": [
              "<Figure size 432x288 with 1 Axes>"
            ],
            "image/png": "[encoded data removed]"
          },
          "metadata": {
            "needs_background": "light"
          }
        }
      ]
    },
    {
      "cell_type": "code",
      "source": [
        "sns.boxplot(df['Annual Income (k$)'])"
      ],
      "metadata": {
        "colab": {
          "base_uri": "https://localhost:8080/",
          "height": 351
        },
        "id": "OAYmYOQIqIwF",
        "outputId": "fe9347fe-a227-4302-c86e-a5627aa9cc42"
      },
      "execution_count": 38,
      "outputs": [
        {
          "output_type": "stream",
          "name": "stderr",
          "text": [
            "/usr/local/lib/python3.7/dist-packages/seaborn/_decorators.py:43: FutureWarning: Pass the following variable as a keyword arg: x. From version 0.12, the only valid positional argument will be `data`, and passing other arguments without an explicit keyword will result in an error or misinterpretation.\n",
            "  FutureWarning\n"
          ]
        },
        {
          "output_type": "execute_result",
          "data": {
            "text/plain": [
              "<matplotlib.axes._subplots.AxesSubplot at 0x7fd695831ed0>"
            ]
          },
          "metadata": {},
          "execution_count": 38
        },
        {
          "output_type": "display_data",
          "data": {
            "text/plain": [
              "<Figure size 432x288 with 1 Axes>"
            ],
            "image/png": "[encoded data removed]"
          },
          "metadata": {
            "needs_background": "light"
          }
        }
      ]
    },
    {
      "cell_type": "code",
      "source": [
        "df['Annual Income (k$)'] = np.where(df['Annual Income (k$)'] > 132.750, 60.55, df['Annual Income (k$)'])"
      ],
      "metadata": {
        "id": "SUvN9TO-qK8B"
      },
      "execution_count": 39,
      "outputs": []
    },
    {
      "cell_type": "code",
      "source": [
        "sns.boxplot(df['Annual Income (k$)'])"
      ],
      "metadata": {
        "colab": {
          "base_uri": "https://localhost:8080/",
          "height": 351
        },
        "id": "lqp4dp0oqMyf",
        "outputId": "31c3186d-97da-45a5-857b-6a6108a72fb8"
      },
      "execution_count": 40,
      "outputs": [
        {
          "output_type": "stream",
          "name": "stderr",
          "text": [
            "/usr/local/lib/python3.7/dist-packages/seaborn/_decorators.py:43: FutureWarning: Pass the following variable as a keyword arg: x. From version 0.12, the only valid positional argument will be `data`, and passing other arguments without an explicit keyword will result in an error or misinterpretation.\n",
            "  FutureWarning\n"
          ]
        },
        {
          "output_type": "execute_result",
          "data": {
            "text/plain": [
              "<matplotlib.axes._subplots.AxesSubplot at 0x7fd6957a8e10>"
            ]
          },
          "metadata": {},
          "execution_count": 40
        },
        {
          "output_type": "display_data",
          "data": {
            "text/plain": [
              "<Figure size 432x288 with 1 Axes>"
            ],
            "image/png": "[encoded data removed]"
          },
          "metadata": {
            "needs_background": "light"
          }
        }
      ]
    },
    {
      "cell_type": "code",
      "source": [
        "\n",
        "df['Annual Income (k$)'].max()"
      ],
      "metadata": {
        "colab": {
          "base_uri": "https://localhost:8080/"
        },
        "id": "kYinIJybqOoO",
        "outputId": "3ac16eaf-af9e-43fa-ad8a-bf0a2cfda7bf"
      },
      "execution_count": 41,
      "outputs": [
        {
          "output_type": "execute_result",
          "data": {
            "text/plain": [
              "126.0"
            ]
          },
          "metadata": {},
          "execution_count": 41
        }
      ]
    },
    {
      "cell_type": "code",
      "source": [
        "sns.boxplot(df['Spending Score (1-100)'])"
      ],
      "metadata": {
        "colab": {
          "base_uri": "https://localhost:8080/",
          "height": 351
        },
        "id": "Tqp6wVxpqQpG",
        "outputId": "c6349fd1-b6d2-4434-a87b-cf5b6a28e5c5"
      },
      "execution_count": 42,
      "outputs": [
        {
          "output_type": "stream",
          "name": "stderr",
          "text": [
            "/usr/local/lib/python3.7/dist-packages/seaborn/_decorators.py:43: FutureWarning: Pass the following variable as a keyword arg: x. From version 0.12, the only valid positional argument will be `data`, and passing other arguments without an explicit keyword will result in an error or misinterpretation.\n",
            "  FutureWarning\n"
          ]
        },
        {
          "output_type": "execute_result",
          "data": {
            "text/plain": [
              "<matplotlib.axes._subplots.AxesSubplot at 0x7fd695723e50>"
            ]
          },
          "metadata": {},
          "execution_count": 42
        },
        {
          "output_type": "display_data",
          "data": {
            "text/plain": [
              "<Figure size 432x288 with 1 Axes>"
            ],
            "image/png": "[encoded data removed]"
          },
          "metadata": {
            "needs_background": "light"
          }
        }
      ]
    },
    {
      "cell_type": "code",
      "source": [
        "from sklearn.preprocessing import  StandardScaler\n",
        "ss = StandardScaler().fit_transform(df)\n",
        "ss"
      ],
      "metadata": {
        "colab": {
          "base_uri": "https://localhost:8080/"
        },
        "id": "D_MyPGE5qTGr",
        "outputId": "2f9c53f8-aa5c-446b-bf64-47589b760036"
      },
      "execution_count": 43,
      "outputs": [
        {
          "output_type": "execute_result",
          "data": {
            "text/plain": [
              "array([[-1.7234121 ,  1.12815215, -1.42456879, -1.78843062, -0.43480148],\n",
              "       [-1.70609137,  1.12815215, -1.28103541, -1.78843062,  1.19570407],\n",
              "       [-1.68877065, -0.88640526, -1.3528021 , -1.74850629, -1.71591298],\n",
              "       [-1.67144992, -0.88640526, -1.13750203, -1.74850629,  1.04041783],\n",
              "       [-1.6541292 , -0.88640526, -0.56336851, -1.70858195, -0.39597992],\n",
              "       [-1.63680847, -0.88640526, -1.20926872, -1.70858195,  1.00159627],\n",
              "       [-1.61948775, -0.88640526, -0.27630176, -1.66865761, -1.71591298],\n",
              "       [-1.60216702, -0.88640526, -1.13750203, -1.66865761,  1.70038436],\n",
              "       [-1.5848463 ,  1.12815215,  1.80493225, -1.62873328, -1.83237767],\n",
              "       [-1.56752558, -0.88640526, -0.6351352 , -1.62873328,  0.84631002],\n",
              "       [-1.55020485,  1.12815215,  2.02023231, -1.62873328, -1.4053405 ],\n",
              "       [-1.53288413, -0.88640526, -0.27630176, -1.62873328,  1.89449216],\n",
              "       [-1.5155634 , -0.88640526,  1.37433211, -1.58880894, -1.36651894],\n",
              "       [-1.49824268, -0.88640526, -1.06573534, -1.58880894,  1.04041783],\n",
              "       [-1.48092195,  1.12815215, -0.13276838, -1.58880894, -1.44416206],\n",
              "       [-1.46360123,  1.12815215, -1.20926872, -1.58880894,  1.11806095],\n",
              "       [-1.4462805 , -0.88640526, -0.27630176, -1.5488846 , -0.59008772],\n",
              "       [-1.42895978,  1.12815215, -1.3528021 , -1.5488846 ,  0.61338066],\n",
              "       [-1.41163905,  1.12815215,  0.94373197, -1.46903593, -0.82301709],\n",
              "       [-1.39431833, -0.88640526, -0.27630176, -1.46903593,  1.8556706 ],\n",
              "       [-1.3769976 ,  1.12815215, -0.27630176, -1.42911159, -0.59008772],\n",
              "       [-1.35967688,  1.12815215, -0.99396865, -1.42911159,  0.88513158],\n",
              "       [-1.34235616, -0.88640526,  0.51313183, -1.38918726, -1.75473454],\n",
              "       [-1.32503543,  1.12815215, -0.56336851, -1.38918726,  0.88513158],\n",
              "       [-1.30771471, -0.88640526,  1.08726535, -1.26941425, -1.4053405 ],\n",
              "       [-1.29039398,  1.12815215, -0.70690189, -1.26941425,  1.23452563],\n",
              "       [-1.27307326, -0.88640526,  0.44136514, -1.26941425, -0.7065524 ],\n",
              "       [-1.25575253,  1.12815215, -0.27630176, -1.26941425,  0.41927286],\n",
              "       [-1.23843181, -0.88640526,  0.08253169, -1.22948991, -0.74537397],\n",
              "       [-1.22111108, -0.88640526, -1.13750203, -1.22948991,  1.42863343],\n",
              "       [-1.20379036,  1.12815215,  1.51786549, -1.18956557, -1.7935561 ],\n",
              "       [-1.18646963, -0.88640526, -1.28103541, -1.18956557,  0.88513158],\n",
              "       [-1.16914891,  1.12815215,  1.01549866, -1.06979256, -1.7935561 ],\n",
              "       [-1.15182818,  1.12815215, -1.49633548, -1.06979256,  1.62274124],\n",
              "       [-1.13450746, -0.88640526,  0.7284319 , -1.06979256, -1.4053405 ],\n",
              "       [-1.11718674, -0.88640526, -1.28103541, -1.06979256,  1.19570407],\n",
              "       [-1.09986601, -0.88640526,  0.22606507, -1.02986823, -1.28887582],\n",
              "       [-1.08254529, -0.88640526, -0.6351352 , -1.02986823,  0.88513158],\n",
              "       [-1.06522456, -0.88640526, -0.20453507, -0.91009522, -0.93948177],\n",
              "       [-1.04790384, -0.88640526, -1.3528021 , -0.91009522,  0.96277471],\n",
              "       [-1.03058311, -0.88640526,  1.87669894, -0.87017088, -0.59008772],\n",
              "       [-1.01326239,  1.12815215, -1.06573534, -0.87017088,  1.62274124],\n",
              "       [-0.99594166,  1.12815215,  0.65666521, -0.83024654, -0.55126616],\n",
              "       [-0.97862094, -0.88640526, -0.56336851, -0.83024654,  0.41927286],\n",
              "       [-0.96130021, -0.88640526,  0.7284319 , -0.83024654, -0.86183865],\n",
              "       [-0.94397949, -0.88640526, -1.06573534, -0.83024654,  0.5745591 ],\n",
              "       [-0.92665877, -0.88640526,  0.80019859, -0.79032221,  0.18634349],\n",
              "       [-0.90933804, -0.88640526, -0.85043527, -0.79032221, -0.12422899],\n",
              "       [-0.89201732, -0.88640526, -0.70690189, -0.79032221, -0.3183368 ],\n",
              "       [-0.87469659, -0.88640526, -0.56336851, -0.79032221, -0.3183368 ],\n",
              "       [-0.85737587, -0.88640526,  0.7284319 , -0.71047353,  0.06987881],\n",
              "       [-0.84005514,  1.12815215, -0.41983513, -0.71047353,  0.38045129],\n",
              "       [-0.82273442, -0.88640526, -0.56336851, -0.6705492 ,  0.14752193],\n",
              "       [-0.80541369,  1.12815215,  1.4460988 , -0.6705492 ,  0.38045129],\n",
              "       [-0.78809297, -0.88640526,  0.80019859, -0.6705492 , -0.20187212],\n",
              "       [-0.77077224,  1.12815215,  0.58489852, -0.6705492 , -0.35715836],\n",
              "       [-0.75345152, -0.88640526,  0.87196528, -0.63062486, -0.00776431],\n",
              "       [-0.73613079,  1.12815215,  2.16376569, -0.63062486, -0.16305055],\n",
              "       [-0.71881007, -0.88640526, -0.85043527, -0.55077619,  0.03105725],\n",
              "       [-0.70148935,  1.12815215,  1.01549866, -0.55077619, -0.16305055],\n",
              "       [-0.68416862,  1.12815215,  2.23553238, -0.55077619,  0.22516505],\n",
              "       [-0.6668479 ,  1.12815215, -1.42456879, -0.55077619,  0.18634349],\n",
              "       [-0.64952717, -0.88640526,  2.02023231, -0.51085185,  0.06987881],\n",
              "       [-0.63220645, -0.88640526,  1.08726535, -0.51085185,  0.34162973],\n",
              "       [-0.61488572,  1.12815215,  1.73316556, -0.47092751,  0.03105725],\n",
              "       [-0.597565  ,  1.12815215, -1.49633548, -0.47092751,  0.34162973],\n",
              "       [-0.58024427, -0.88640526,  0.29783176, -0.47092751, -0.00776431],\n",
              "       [-0.56292355, -0.88640526,  2.091999  , -0.47092751, -0.08540743],\n",
              "       [-0.54560282,  1.12815215, -1.42456879, -0.47092751,  0.34162973],\n",
              "       [-0.5282821 , -0.88640526, -0.49160182, -0.47092751, -0.12422899],\n",
              "       [-0.51096138,  1.12815215,  2.23553238, -0.43100318,  0.18634349],\n",
              "       [-0.49364065, -0.88640526,  0.58489852, -0.43100318, -0.3183368 ],\n",
              "       [-0.47631993, -0.88640526,  1.51786549, -0.39107884, -0.04658587],\n",
              "       [-0.4589992 , -0.88640526,  1.51786549, -0.39107884,  0.22516505],\n",
              "       [-0.44167848,  1.12815215,  1.4460988 , -0.23138149, -0.12422899],\n",
              "       [-0.42435775,  1.12815215, -0.92220196, -0.23138149,  0.14752193],\n",
              "       [-0.40703703, -0.88640526,  0.44136514, -0.23138149,  0.10870037],\n",
              "       [-0.3897163 ,  1.12815215,  0.08253169, -0.23138149, -0.08540743],\n",
              "       [-0.37239558, -0.88640526, -1.13750203, -0.23138149,  0.06987881],\n",
              "       [-0.35507485, -0.88640526,  0.7284319 , -0.23138149, -0.3183368 ],\n",
              "       [-0.33775413,  1.12815215,  1.30256542, -0.23138149,  0.03105725],\n",
              "       [-0.3204334 ,  1.12815215, -0.06100169, -0.23138149,  0.18634349],\n",
              "       [-0.30311268,  1.12815215,  2.02023231, -0.23138149, -0.35715836],\n",
              "       [-0.28579196, -0.88640526,  0.51313183, -0.23138149, -0.24069368],\n",
              "       [-0.26847123, -0.88640526, -1.28103541, -0.23138149,  0.26398661],\n",
              "       [-0.25115051,  1.12815215,  0.65666521, -0.23138149, -0.16305055],\n",
              "       [-0.23382978, -0.88640526,  1.15903204, -0.11160848,  0.30280817],\n",
              "       [-0.21650906, -0.88640526, -1.20926872, -0.11160848,  0.18634349],\n",
              "       [-0.19918833, -0.88640526, -0.34806844, -0.07168415,  0.38045129],\n",
              "       [-0.18186761, -0.88640526,  0.80019859, -0.07168415, -0.16305055],\n",
              "       [-0.16454688, -0.88640526,  2.091999  , -0.03175981,  0.18634349],\n",
              "       [-0.14722616,  1.12815215, -1.49633548, -0.03175981, -0.35715836],\n",
              "       [-0.12990543,  1.12815215,  0.65666521,  0.00816453, -0.04658587],\n",
              "       [-0.11258471, -0.88640526,  0.08253169,  0.00816453, -0.39597992],\n",
              "       [-0.09526399, -0.88640526, -0.49160182,  0.00816453, -0.3183368 ],\n",
              "       [-0.07794326,  1.12815215, -1.06573534,  0.00816453,  0.06987881],\n",
              "       [-0.06062254, -0.88640526,  0.58489852,  0.00816453, -0.12422899],\n",
              "       [-0.04330181, -0.88640526, -0.85043527,  0.00816453, -0.00776431],\n",
              "       [-0.02598109,  1.12815215,  0.65666521,  0.04808886, -0.3183368 ],\n",
              "       [-0.00866036,  1.12815215, -1.3528021 ,  0.04808886, -0.04658587],\n",
              "       [ 0.00866036, -0.88640526, -1.13750203,  0.0880132 , -0.35715836],\n",
              "       [ 0.02598109, -0.88640526,  0.7284319 ,  0.0880132 , -0.08540743],\n",
              "       [ 0.04330181,  1.12815215,  2.02023231,  0.0880132 ,  0.34162973],\n",
              "       [ 0.06062254,  1.12815215, -0.92220196,  0.0880132 ,  0.18634349],\n",
              "       [ 0.07794326,  1.12815215,  0.7284319 ,  0.0880132 ,  0.22516505],\n",
              "       [ 0.09526399, -0.88640526, -1.28103541,  0.0880132 , -0.3183368 ],\n",
              "       [ 0.11258471, -0.88640526,  1.94846562,  0.12793754, -0.00776431],\n",
              "       [ 0.12990543,  1.12815215,  1.08726535,  0.12793754, -0.16305055],\n",
              "       [ 0.14722616,  1.12815215,  2.091999  ,  0.12793754, -0.27951524],\n",
              "       [ 0.16454688,  1.12815215,  1.94846562,  0.12793754, -0.08540743],\n",
              "       [ 0.18186761,  1.12815215,  1.87669894,  0.12793754,  0.06987881],\n",
              "       [ 0.19918833, -0.88640526, -1.42456879,  0.12793754,  0.14752193],\n",
              "       [ 0.21650906, -0.88640526, -0.06100169,  0.16786187, -0.3183368 ],\n",
              "       [ 0.23382978,  1.12815215, -1.42456879,  0.16786187, -0.16305055],\n",
              "       [ 0.25115051, -0.88640526, -1.49633548,  0.20778621, -0.08540743],\n",
              "       [ 0.26847123, -0.88640526, -1.42456879,  0.20778621, -0.00776431],\n",
              "       [ 0.28579196, -0.88640526,  1.73316556,  0.20778621, -0.27951524],\n",
              "       [ 0.30311268, -0.88640526,  0.7284319 ,  0.20778621,  0.34162973],\n",
              "       [ 0.3204334 , -0.88640526,  0.87196528,  0.28763488, -0.27951524],\n",
              "       [ 0.33775413, -0.88640526,  0.80019859,  0.28763488,  0.26398661],\n",
              "       [ 0.35507485,  1.12815215, -0.85043527,  0.28763488,  0.22516505],\n",
              "       [ 0.37239558, -0.88640526, -0.06100169,  0.28763488, -0.39597992],\n",
              "       [ 0.3897163 , -0.88640526,  0.08253169,  0.36748356,  0.30280817],\n",
              "       [ 0.40703703,  1.12815215,  0.010765  ,  0.36748356,  1.58391968],\n",
              "       [ 0.42435775, -0.88640526, -1.13750203,  0.40740789, -0.82301709],\n",
              "       [ 0.44167848, -0.88640526, -0.56336851,  0.40740789,  1.04041783],\n",
              "       [ 0.4589992 ,  1.12815215,  0.29783176,  0.44733223, -0.59008772],\n",
              "       [ 0.47631993,  1.12815215,  0.08253169,  0.44733223,  1.73920592],\n",
              "       [ 0.49364065,  1.12815215,  1.4460988 ,  0.44733223, -1.52180518],\n",
              "       [ 0.51096138,  1.12815215, -0.06100169,  0.44733223,  0.96277471],\n",
              "       [ 0.5282821 ,  1.12815215,  0.58489852,  0.44733223, -1.5994483 ],\n",
              "       [ 0.54560282,  1.12815215,  0.010765  ,  0.44733223,  0.96277471],\n",
              "       [ 0.56292355, -0.88640526, -0.99396865,  0.48725657, -0.62890928],\n",
              "       [ 0.58024427, -0.88640526, -0.56336851,  0.48725657,  0.80748846],\n",
              "       [ 0.597565  ,  1.12815215, -1.3528021 ,  0.5271809 , -1.75473454],\n",
              "       [ 0.61488572, -0.88640526, -0.70690189,  0.5271809 ,  1.46745499],\n",
              "       [ 0.63220645, -0.88640526,  0.36959845,  0.5271809 , -1.67709142],\n",
              "       [ 0.64952717,  1.12815215, -0.49160182,  0.5271809 ,  0.88513158],\n",
              "       [ 0.6668479 ,  1.12815215, -1.42456879,  0.56710524, -1.56062674],\n",
              "       [ 0.68416862, -0.88640526, -0.27630176,  0.56710524,  0.84631002],\n",
              "       [ 0.70148935, -0.88640526,  1.30256542,  0.60702958, -1.75473454],\n",
              "       [ 0.71881007,  1.12815215, -0.49160182,  0.60702958,  1.6615628 ],\n",
              "       [ 0.73613079, -0.88640526, -0.77866858,  0.64695391, -0.39597992],\n",
              "       [ 0.75345152, -0.88640526, -0.49160182,  0.64695391,  1.42863343],\n",
              "       [ 0.77077224,  1.12815215, -0.99396865,  0.68687825, -1.48298362],\n",
              "       [ 0.78809297,  1.12815215, -0.77866858,  0.68687825,  1.81684904],\n",
              "       [ 0.80541369,  1.12815215,  0.65666521,  0.68687825, -0.55126616],\n",
              "       [ 0.82273442, -0.88640526, -0.49160182,  0.68687825,  0.92395314],\n",
              "       [ 0.84005514, -0.88640526, -0.34806844,  0.72680259, -1.09476801],\n",
              "       [ 0.85737587,  1.12815215, -0.34806844,  0.72680259,  1.54509812],\n",
              "       [ 0.87469659,  1.12815215,  0.29783176,  0.72680259, -1.28887582],\n",
              "       [ 0.89201732,  1.12815215,  0.010765  ,  0.72680259,  1.46745499],\n",
              "       [ 0.90933804, -0.88640526,  0.36959845,  0.72680259, -1.17241113],\n",
              "       [ 0.92665877, -0.88640526, -0.06100169,  0.72680259,  1.00159627],\n",
              "       [ 0.94397949, -0.88640526,  0.58489852,  0.72680259, -1.32769738],\n",
              "       [ 0.96130021, -0.88640526, -0.85043527,  0.72680259,  1.50627656],\n",
              "       [ 0.97862094,  1.12815215, -0.13276838,  0.72680259, -1.91002079],\n",
              "       [ 0.99594166, -0.88640526, -0.6351352 ,  0.72680259,  1.07923939],\n",
              "       [ 1.01326239,  1.12815215, -0.34806844,  0.72680259, -1.91002079],\n",
              "       [ 1.03058311, -0.88640526, -0.6351352 ,  0.72680259,  0.88513158],\n",
              "       [ 1.04790384, -0.88640526,  1.23079873,  0.76672692, -0.59008772],\n",
              "       [ 1.06522456, -0.88640526, -0.70690189,  0.76672692,  1.27334719],\n",
              "       [ 1.08254529,  1.12815215, -1.42456879,  0.8465756 , -1.75473454],\n",
              "       [ 1.09986601, -0.88640526, -0.56336851,  0.8465756 ,  1.6615628 ],\n",
              "       [ 1.11718674,  1.12815215,  0.80019859,  1.00627294, -0.93948177],\n",
              "       [ 1.13450746, -0.88640526, -0.20453507,  1.00627294,  0.96277471],\n",
              "       [ 1.15182818,  1.12815215,  0.22606507,  1.04619728, -1.17241113],\n",
              "       [ 1.16914891, -0.88640526, -0.41983513,  1.04619728,  1.73920592],\n",
              "       [ 1.18646963, -0.88640526, -0.20453507,  1.08612162, -0.90066021],\n",
              "       [ 1.20379036,  1.12815215, -0.49160182,  1.08612162,  0.49691598],\n",
              "       [ 1.22111108,  1.12815215,  0.08253169,  1.08612162, -1.44416206],\n",
              "       [ 1.23843181,  1.12815215, -0.77866858,  1.08612162,  0.96277471],\n",
              "       [ 1.25575253,  1.12815215, -0.20453507,  1.08612162, -1.56062674],\n",
              "       [ 1.27307326,  1.12815215, -0.20453507,  1.08612162,  1.62274124],\n",
              "       [ 1.29039398, -0.88640526,  0.94373197,  1.12604595, -1.44416206],\n",
              "       [ 1.30771471, -0.88640526, -0.6351352 ,  1.12604595,  1.38981187],\n",
              "       [ 1.32503543,  1.12815215,  1.37433211,  1.12604595, -1.36651894],\n",
              "       [ 1.34235616,  1.12815215, -0.85043527,  1.12604595,  0.72984534],\n",
              "       [ 1.35967688,  1.12815215,  1.4460988 ,  1.32566764, -1.4053405 ],\n",
              "       [ 1.3769976 ,  1.12815215, -0.27630176,  1.32566764,  1.54509812],\n",
              "       [ 1.39431833, -0.88640526, -0.13276838,  1.48536498, -0.7065524 ],\n",
              "       [ 1.41163905, -0.88640526, -0.49160182,  1.48536498,  1.38981187],\n",
              "       [ 1.42895978,  1.12815215,  0.51313183,  1.52528932, -1.36651894],\n",
              "       [ 1.4462805 , -0.88640526, -0.70690189,  1.52528932,  1.46745499],\n",
              "       [ 1.46360123, -0.88640526,  0.15429838,  1.56521366, -0.43480148],\n",
              "       [ 1.48092195,  1.12815215, -0.6351352 ,  1.56521366,  1.81684904],\n",
              "       [ 1.49824268, -0.88640526,  1.08726535,  1.64506233, -1.01712489],\n",
              "       [ 1.5155634 ,  1.12815215, -0.77866858,  1.64506233,  0.69102378],\n",
              "       [ 1.53288413, -0.88640526,  0.15429838,  1.724911  , -1.28887582],\n",
              "       [ 1.55020485, -0.88640526, -0.20453507,  1.724911  ,  1.35099031],\n",
              "       [ 1.56752558, -0.88640526, -0.34806844,  1.724911  , -1.05594645],\n",
              "       [ 1.5848463 , -0.88640526, -0.49160182,  1.724911  ,  0.72984534],\n",
              "       [ 1.60216702,  1.12815215, -0.41983513,  2.12415437, -1.63826986],\n",
              "       [ 1.61948775, -0.88640526, -0.06100169,  2.12415437,  1.58391968],\n",
              "       [ 1.63680847, -0.88640526,  0.58489852,  2.40362473, -1.32769738],\n",
              "       [ 1.6541292 , -0.88640526, -0.27630176,  2.40362473,  1.11806095],\n",
              "       [ 1.67144992, -0.88640526,  0.44136514,  2.64317075, -0.86183865],\n",
              "       [ 1.68877065,  1.12815215, -0.49160182,  2.64317075,  0.92395314],\n",
              "       [ 1.70609137,  1.12815215, -0.49160182,  0.03012291, -1.25005425],\n",
              "       [ 1.7234121 ,  1.12815215, -0.6351352 ,  0.03012291,  1.27334719]])"
            ]
          },
          "metadata": {},
          "execution_count": 43
        }
      ]
    },
    {
      "cell_type": "code",
      "source": [
        "\n",
        "from sklearn.cluster import KMeans\n",
        "TWSS = []\n",
        "k = list(range(2,9))\n",
        "\n",
        "for i in k:\n",
        "  kmeans = KMeans(n_clusters = i , init = 'k-means++')\n",
        "  kmeans.fit(df)\n",
        "  TWSS.append(kmeans.inertia_)"
      ],
      "metadata": {
        "id": "PDLSkpOjqVYj"
      },
      "execution_count": 44,
      "outputs": []
    },
    {
      "cell_type": "code",
      "source": [
        "TWSS"
      ],
      "metadata": {
        "colab": {
          "base_uri": "https://localhost:8080/"
        },
        "id": "Q6OHHUeNqZe_",
        "outputId": "39b3d26b-8457-4a6b-e525-ac7a66def7fa"
      },
      "execution_count": 46,
      "outputs": [
        {
          "output_type": "execute_result",
          "data": {
            "text/plain": [
              "[381507.64738523855,\n",
              " 268062.55433747417,\n",
              " 191575.26912927354,\n",
              " 153530.68956249507,\n",
              " 119185.88188245903,\n",
              " 101320.9360018038,\n",
              " 85717.76124902876]"
            ]
          },
          "metadata": {},
          "execution_count": 46
        }
      ]
    },
    {
      "cell_type": "code",
      "source": [],
      "metadata": {
        "id": "pxlkP0NCqftM"
      },
      "execution_count": null,
      "outputs": []
    }
  ]
}